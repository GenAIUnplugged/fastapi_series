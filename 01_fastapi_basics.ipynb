{
  "nbformat": 4,
  "nbformat_minor": 0,
  "metadata": {
    "colab": {
      "provenance": [],
      "authorship_tag": "ABX9TyNSqlujzX6oAXXkBTstV+UN",
      "include_colab_link": true
    },
    "kernelspec": {
      "name": "python3",
      "display_name": "Python 3"
    },
    "language_info": {
      "name": "python"
    }
  },
  "cells": [
    {
      "cell_type": "markdown",
      "metadata": {
        "id": "view-in-github",
        "colab_type": "text"
      },
      "source": [
        "<a href=\"https://colab.research.google.com/github/GenAIUnplugged/fastapi_series/blob/main/01_fastapi_basics.ipynb\" target=\"_parent\"><img src=\"https://colab.research.google.com/assets/colab-badge.svg\" alt=\"Open In Colab\"/></a>"
      ]
    },
    {
      "cell_type": "code",
      "execution_count": 1,
      "metadata": {
        "colab": {
          "base_uri": "https://localhost:8080/"
        },
        "id": "amNOl2gMbKNH",
        "outputId": "3abd3e4f-0f13-4007-e227-929724e885d5"
      },
      "outputs": [
        {
          "output_type": "stream",
          "name": "stdout",
          "text": [
            "Collecting fastapi\n",
            "  Downloading fastapi-0.115.12-py3-none-any.whl.metadata (27 kB)\n",
            "Collecting uvicorn\n",
            "  Downloading uvicorn-0.34.2-py3-none-any.whl.metadata (6.5 kB)\n",
            "Collecting pyngrok\n",
            "  Downloading pyngrok-7.2.8-py3-none-any.whl.metadata (10 kB)\n",
            "Requirement already satisfied: nest_asyncio in /usr/local/lib/python3.11/dist-packages (1.6.0)\n",
            "Collecting starlette<0.47.0,>=0.40.0 (from fastapi)\n",
            "  Downloading starlette-0.46.2-py3-none-any.whl.metadata (6.2 kB)\n",
            "Requirement already satisfied: pydantic!=1.8,!=1.8.1,!=2.0.0,!=2.0.1,!=2.1.0,<3.0.0,>=1.7.4 in /usr/local/lib/python3.11/dist-packages (from fastapi) (2.11.4)\n",
            "Requirement already satisfied: typing-extensions>=4.8.0 in /usr/local/lib/python3.11/dist-packages (from fastapi) (4.13.2)\n",
            "Requirement already satisfied: click>=7.0 in /usr/local/lib/python3.11/dist-packages (from uvicorn) (8.1.8)\n",
            "Requirement already satisfied: h11>=0.8 in /usr/local/lib/python3.11/dist-packages (from uvicorn) (0.16.0)\n",
            "Requirement already satisfied: PyYAML>=5.1 in /usr/local/lib/python3.11/dist-packages (from pyngrok) (6.0.2)\n",
            "Requirement already satisfied: annotated-types>=0.6.0 in /usr/local/lib/python3.11/dist-packages (from pydantic!=1.8,!=1.8.1,!=2.0.0,!=2.0.1,!=2.1.0,<3.0.0,>=1.7.4->fastapi) (0.7.0)\n",
            "Requirement already satisfied: pydantic-core==2.33.2 in /usr/local/lib/python3.11/dist-packages (from pydantic!=1.8,!=1.8.1,!=2.0.0,!=2.0.1,!=2.1.0,<3.0.0,>=1.7.4->fastapi) (2.33.2)\n",
            "Requirement already satisfied: typing-inspection>=0.4.0 in /usr/local/lib/python3.11/dist-packages (from pydantic!=1.8,!=1.8.1,!=2.0.0,!=2.0.1,!=2.1.0,<3.0.0,>=1.7.4->fastapi) (0.4.0)\n",
            "Requirement already satisfied: anyio<5,>=3.6.2 in /usr/local/lib/python3.11/dist-packages (from starlette<0.47.0,>=0.40.0->fastapi) (4.9.0)\n",
            "Requirement already satisfied: idna>=2.8 in /usr/local/lib/python3.11/dist-packages (from anyio<5,>=3.6.2->starlette<0.47.0,>=0.40.0->fastapi) (3.10)\n",
            "Requirement already satisfied: sniffio>=1.1 in /usr/local/lib/python3.11/dist-packages (from anyio<5,>=3.6.2->starlette<0.47.0,>=0.40.0->fastapi) (1.3.1)\n",
            "Downloading fastapi-0.115.12-py3-none-any.whl (95 kB)\n",
            "\u001b[2K   \u001b[90m━━━━━━━━━━━━━━━━━━━━━━━━━━━━━━━━━━━━━━━━\u001b[0m \u001b[32m95.2/95.2 kB\u001b[0m \u001b[31m5.9 MB/s\u001b[0m eta \u001b[36m0:00:00\u001b[0m\n",
            "\u001b[?25hDownloading uvicorn-0.34.2-py3-none-any.whl (62 kB)\n",
            "\u001b[2K   \u001b[90m━━━━━━━━━━━━━━━━━━━━━━━━━━━━━━━━━━━━━━━━\u001b[0m \u001b[32m62.5/62.5 kB\u001b[0m \u001b[31m3.2 MB/s\u001b[0m eta \u001b[36m0:00:00\u001b[0m\n",
            "\u001b[?25hDownloading pyngrok-7.2.8-py3-none-any.whl (25 kB)\n",
            "Downloading starlette-0.46.2-py3-none-any.whl (72 kB)\n",
            "\u001b[2K   \u001b[90m━━━━━━━━━━━━━━━━━━━━━━━━━━━━━━━━━━━━━━━━\u001b[0m \u001b[32m72.0/72.0 kB\u001b[0m \u001b[31m5.2 MB/s\u001b[0m eta \u001b[36m0:00:00\u001b[0m\n",
            "\u001b[?25hInstalling collected packages: uvicorn, pyngrok, starlette, fastapi\n",
            "Successfully installed fastapi-0.115.12 pyngrok-7.2.8 starlette-0.46.2 uvicorn-0.34.2\n"
          ]
        }
      ],
      "source": [
        "!pip install fastapi uvicorn pyngrok nest_asyncio"
      ]
    },
    {
      "cell_type": "code",
      "source": [
        "from fastapi import FastAPI\n",
        "from pydantic import BaseModel\n",
        "import uvicorn\n",
        "from pyngrok import ngrok\n",
        "import nest_asyncio"
      ],
      "metadata": {
        "id": "bxpFAxwnbM8l"
      },
      "execution_count": 2,
      "outputs": []
    },
    {
      "cell_type": "code",
      "source": [
        "app = FastAPI()"
      ],
      "metadata": {
        "id": "_oh5s7FSbXIG"
      },
      "execution_count": 3,
      "outputs": []
    },
    {
      "cell_type": "code",
      "source": [
        "from google.colab import userdata\n",
        "auth_token = userdata.get(\"NGROK_AUTH_TOKEN\")"
      ],
      "metadata": {
        "id": "iCfLnjrdmj3F"
      },
      "execution_count": 4,
      "outputs": []
    },
    {
      "cell_type": "code",
      "source": [
        "!ngrok config add-authtoken {auth_token}"
      ],
      "metadata": {
        "colab": {
          "base_uri": "https://localhost:8080/"
        },
        "id": "WGx9OpKHcC4l",
        "outputId": "2cc890b1-5e7c-4019-81d4-5846f2dcdce1"
      },
      "execution_count": 8,
      "outputs": [
        {
          "output_type": "stream",
          "name": "stdout",
          "text": [
            "Authtoken saved to configuration file: /root/.config/ngrok/ngrok.yml\n"
          ]
        }
      ]
    },
    {
      "cell_type": "code",
      "source": [
        "# Create tunnel\n",
        "ngrok_tunnel = ngrok.connect(8000)\n",
        "print('Public URL:', ngrok_tunnel.public_url)"
      ],
      "metadata": {
        "colab": {
          "base_uri": "https://localhost:8080/"
        },
        "id": "MaahXhRjbdgl",
        "outputId": "7ba12c81-716a-446b-d46b-aaf605f64c57"
      },
      "execution_count": 9,
      "outputs": [
        {
          "output_type": "stream",
          "name": "stdout",
          "text": [
            "Public URL: https://c27a-34-169-224-175.ngrok-free.app\n"
          ]
        }
      ]
    },
    {
      "cell_type": "code",
      "source": [
        "from fastapi import FastAPI\n",
        "from pydantic import BaseModel\n",
        "import nest_asyncio\n",
        "from pyngrok import ngrok\n",
        "import uvicorn\n",
        "\n",
        "# Step 1: Define the data model\n",
        "class Item(BaseModel):\n",
        "    name: str\n",
        "    description: str = None\n",
        "    price: float\n",
        "    tax: float = None\n",
        "\n",
        "# Step 2: Create the app\n",
        "app = FastAPI()\n",
        "\n",
        "'''\n",
        "Step 3: Routes (create path operation. path is also known as endpoint)\n",
        "You can use the operations like POST,GET,PUT,DELETE etc. In HTTP protocol,\n",
        "you can communicate to each path using one or more of these methods\n",
        "'''\n",
        "@app.get(\"/\")\n",
        "def read_root():\n",
        "    return {\"message\": \"Hello from FastAPI in Colab\"}\n",
        "\n",
        "@app.get(\"/items/{item_id}\")\n",
        "def get_item(item_id: int):\n",
        "    return {\"item_id\": item_id, \"name\":\"sample\"}\n",
        "\n",
        "@app.post(\"/items/\")\n",
        "def create_item(item: Item):\n",
        "    total = item.price + (item.tax if item.tax else 0)\n",
        "    return {\n",
        "        \"name\": item.name,\n",
        "        \"description\": item.description,\n",
        "        \"price\": item.price,\n",
        "        \"tax\": item.tax,\n",
        "        \"total_price\": total\n",
        "    }\n",
        "\n",
        "# Step 4: Enable nested event loop (Colab-specific)\n",
        "nest_asyncio.apply()\n",
        "\n",
        "# Step 5: Start ngrok and run the server\n",
        "public_url = ngrok.connect(8000)\n",
        "print(\"🚀 Public URL:\", public_url)\n",
        "\n",
        "uvicorn.run(app, host=\"0.0.0.0\", port=8000)\n"
      ],
      "metadata": {
        "colab": {
          "base_uri": "https://localhost:8080/"
        },
        "id": "59EnthDLgK9n",
        "outputId": "f03bb243-34e9-440e-b157-7b9c17f33105"
      },
      "execution_count": 10,
      "outputs": [
        {
          "output_type": "stream",
          "name": "stdout",
          "text": [
            "🚀 Public URL: NgrokTunnel: \"https://fff7-34-169-224-175.ngrok-free.app\" -> \"http://localhost:8000\"\n"
          ]
        },
        {
          "output_type": "stream",
          "name": "stderr",
          "text": [
            "INFO:     Started server process [290]\n",
            "INFO:     Waiting for application startup.\n",
            "INFO:     Application startup complete.\n",
            "INFO:     Uvicorn running on http://0.0.0.0:8000 (Press CTRL+C to quit)\n",
            "INFO:     Shutting down\n",
            "INFO:     Waiting for application shutdown.\n",
            "INFO:     Application shutdown complete.\n",
            "INFO:     Finished server process [290]\n"
          ]
        }
      ]
    },
    {
      "cell_type": "markdown",
      "source": [
        "**You will see the automatic interactive API documentation - Swagger UI** \\\n",
        "https://url_link/docs"
      ],
      "metadata": {
        "id": "wmblU1F0irzl"
      }
    },
    {
      "cell_type": "markdown",
      "source": [
        "When building APIs, you normally use these specific HTTP methods to perform a specific action.\n",
        "\n",
        "**Normally you use:** \\\n",
        "POST: to create data. \\\n",
        "GET: to read data. \\\n",
        "PUT: to update data. \\\n",
        "DELETE: to delete data. \\"
      ],
      "metadata": {
        "id": "4Fwm1dvBkIak"
      }
    },
    {
      "cell_type": "markdown",
      "source": [
        "The @app.get(\"/\") tells FastAPI that the function right below is in charge of handling requests that go to: \\\n",
        "the path / \\\n",
        "using a get operation"
      ],
      "metadata": {
        "id": "20kmuj0mkWg9"
      }
    },
    {
      "cell_type": "markdown",
      "source": [
        "You can also use the other operations: \\\n",
        "@app.post() \\\n",
        "@app.put() \\\n",
        "@app.delete()"
      ],
      "metadata": {
        "id": "ydBJ6XOrkgTl"
      }
    },
    {
      "cell_type": "markdown",
      "source": [
        "**define the path operation function** \\\n",
        "This is our \"path operation function\": \\\n",
        "path: is /. \\\n",
        "operation: is get. \\\n",
        "function: is the function below the \"decorator\" (below @app.get(\"/\"))."
      ],
      "metadata": {
        "id": "_mTTXzv4ktab"
      }
    },
    {
      "cell_type": "markdown",
      "source": [
        "**Return Content** \\\n",
        "Finally you return a dict, list, singular values as str, int etc \\\n",
        "You can also return Pydantic models"
      ],
      "metadata": {
        "id": "YmHukaTAlCv1"
      }
    },
    {
      "cell_type": "markdown",
      "source": [
        "**Conclusion:** \\\n",
        "1. Import FastAPI. \\\n",
        "2. Create an app instance. \\\n",
        "3. Write a path operation decorator using decorators like @app.get(\"/\"). \\\n",
        "4. Define a path operation function; for example, def root(): .... \\\n",
        "5. Run the development server using the command fastapi dev."
      ],
      "metadata": {
        "id": "n4wtAUPrlRwL"
      }
    },
    {
      "cell_type": "code",
      "source": [],
      "metadata": {
        "id": "AppYa9mtgea2"
      },
      "execution_count": null,
      "outputs": []
    }
  ]
}